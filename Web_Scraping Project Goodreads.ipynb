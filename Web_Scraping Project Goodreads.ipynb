{
 "cells": [
  {
   "cell_type": "code",
   "execution_count": 4,
   "id": "52f62e44-6583-48a3-98f9-1ce974ca8dad",
   "metadata": {},
   "outputs": [],
   "source": [
    " from bs4 import BeautifulSoup\n",
    "import requests"
   ]
  },
  {
   "cell_type": "code",
   "execution_count": null,
   "id": "5c510770-1cc8-4e4e-af54-d682d5555398",
   "metadata": {},
   "outputs": [
    {
     "name": "stdout",
     "output_type": "stream",
     "text": [
      "Scraping 2011 ...\n",
      "Scraping 2012 ...\n",
      "Scraping 2013 ...\n",
      "Scraping 2014 ...\n",
      "Scraping 2015 ...\n",
      "Scraping 2016 ...\n",
      "Scraping 2017 ...\n",
      "Scraping 2018 ...\n",
      "Scraping 2019 ...\n",
      "Scraping 2020 ...\n",
      "Scraping 2021 ...\n",
      "Scraping 2022 ...\n",
      "Scraping 2023 ...\n",
      "✅ Scraping complete!\n",
      "   Year            Category  \\\n",
      "0  2011             Fiction   \n",
      "1  2011  Mystery & Thriller   \n",
      "2  2011  Historical Fiction   \n",
      "3  2011             Fantasy   \n",
      "4  2011  Paranormal Fantasy   \n",
      "5  2011     Science Fiction   \n",
      "6  2011              Horror   \n",
      "7  2011             Romance   \n",
      "8  2011               Humor   \n",
      "9  2011          Nonfiction   \n",
      "\n",
      "                                                Book               Author  \n",
      "0                                               1Q84      Haruki Murakami  \n",
      "1                                  Smokin' Seventeen      Janet Evanovich  \n",
      "2                                     The Paris Wife         Paula McLain  \n",
      "3                               A Dance with Dragons   George R.R. Martin  \n",
      "4                                        Shadowfever   Karen Marie Moning  \n",
      "5                                           11/22/63  Stephen        King  \n",
      "6                                        Graveminder         Melissa Marr  \n",
      "7                                    Lover Unleashed            J.R. Ward  \n",
      "8                                         Bossypants             Tina Fey  \n",
      "9  The Geeks Shall Inherit the Earth: Popularity,...    Alexandra Robbins  \n"
     ]
    }
   ],
   "source": [
    "import requests\n",
    "from bs4 import BeautifulSoup\n",
    "import pandas as pd\n",
    "import time\n",
    "\n",
    "BASE_URL = \"https://www.goodreads.com\"\n",
    "\n",
    "headers = {\n",
    "    \"User-Agent\": \"Mozilla/5.0 (Windows NT 10.0; Win64; x64) \"\n",
    "                  \"AppleWebKit/537.36 (KHTML, like Gecko) \"\n",
    "                  \"Chrome/120.0.0.0 Safari/537.36\"\n",
    "}\n",
    "\n",
    "data = []\n",
    "\n",
    "# Loop through years\n",
    "for year in range(2011, 2024):  # 2011–2023\n",
    "    url = f\"{BASE_URL}/choiceawards/best-books-{year}\"\n",
    "    print(f\"Scraping {year} ...\")\n",
    "    response = requests.get(url, headers=headers)\n",
    "    soup = BeautifulSoup(response.text, \"html.parser\")\n",
    "\n",
    "    # Find all category links\n",
    "    categories = soup.find_all(\"a\", href=True)\n",
    "    for cat in categories:\n",
    "        if \"/choiceawards/best-\" in cat[\"href\"]:\n",
    "            cat_name_tag = cat.find(\"h4\", class_=\"category__copy\")\n",
    "            if cat_name_tag:\n",
    "                cat_name = cat_name_tag.get_text(strip=True)\n",
    "                category_url = BASE_URL + cat[\"href\"]\n",
    "\n",
    "                # Visit category page\n",
    "                res_cat = requests.get(category_url, headers=headers)\n",
    "                soup_cat = BeautifulSoup(res_cat.text, \"html.parser\")\n",
    "\n",
    "                # Extract winner book title & author\n",
    "                title_tag = soup_cat.find(\"a\", class_=\"winningTitle\")\n",
    "                author_tag = soup_cat.find(\"span\", itemprop=\"name\")\n",
    "\n",
    "                if title_tag and author_tag:\n",
    "                    title = title_tag.get_text(strip=True)\n",
    "                    author = author_tag.get_text(strip=True)\n",
    "\n",
    "                    data.append({\n",
    "                        \"Year\": year,\n",
    "                        \"Category\": cat_name,\n",
    "                        \"Book\": title,\n",
    "                        \"Author\": author\n",
    "                    })\n",
    "\n",
    "                time.sleep(1)\n",
    "\n",
    "# Save results\n",
    "df = pd.DataFrame(data)\n",
    "file_name = \"goodreads_choice_awards.csv\"\n",
    "df.to_csv(file_name, index=False)\n",
    "\n",
    "print(\"Scraping complete!\")\n",
    "print(df.head(10))\n"
   ]
  },
  {
   "cell_type": "code",
   "execution_count": 19,
   "id": "9de0b8b2-1e0c-4ea7-89fc-e256a242d479",
   "metadata": {},
   "outputs": [
    {
     "name": "stdout",
     "output_type": "stream",
     "text": [
      "   Year            Category                  Book              Author\n",
      "0  2011             Fiction                  1Q84     Haruki Murakami\n",
      "1  2011  Mystery & Thriller     Smokin' Seventeen     Janet Evanovich\n",
      "2  2011  Historical Fiction        The Paris Wife        Paula McLain\n",
      "3  2011             Fantasy  A Dance with Dragons  George R.R. Martin\n",
      "4  2011  Paranormal Fantasy           Shadowfever  Karen Marie Moning\n"
     ]
    },
    {
     "data": {
      "text/html": [
       "<a href='goodreads_choice_awards.csv' target='_blank'>goodreads_choice_awards.csv</a><br>"
      ],
      "text/plain": [
       "C:\\Users\\samue\\goodreads_choice_awards.csv"
      ]
     },
     "execution_count": 19,
     "metadata": {},
     "output_type": "execute_result"
    }
   ],
   "source": [
    "import pandas as pd\n",
    "\n",
    "# Save the data\n",
    "df = pd.DataFrame(data)\n",
    "file_name = \"goodreads_choice_awards.csv\"\n",
    "df.to_csv(file_name, index=False)\n",
    "\n",
    "# Show dataframe preview\n",
    "print(df.head())\n",
    "\n",
    "# For Jupyter: let you download it\n",
    "import IPython.display as disp\n",
    "disp.FileLink(file_name)\n"
   ]
  },
  {
   "cell_type": "code",
   "execution_count": null,
   "id": "a0ed5b85-3a23-4720-b40f-8e0fa9b0df55",
   "metadata": {},
   "outputs": [],
   "source": []
  }
 ],
 "metadata": {
  "kernelspec": {
   "display_name": "Python 3 (ipykernel)",
   "language": "python",
   "name": "python3"
  },
  "language_info": {
   "codemirror_mode": {
    "name": "ipython",
    "version": 3
   },
   "file_extension": ".py",
   "mimetype": "text/x-python",
   "name": "python",
   "nbconvert_exporter": "python",
   "pygments_lexer": "ipython3",
   "version": "3.13.5"
  }
 },
 "nbformat": 4,
 "nbformat_minor": 5
}
